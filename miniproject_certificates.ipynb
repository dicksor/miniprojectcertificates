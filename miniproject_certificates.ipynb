{
 "cells": [
  {
   "cell_type": "markdown",
   "metadata": {},
   "source": [
    "# Certificates (X.509)"
   ]
  },
  {
   "cell_type": "markdown",
   "metadata": {},
   "source": [
    "Import useful packages for project"
   ]
  },
  {
   "cell_type": "code",
   "execution_count": 79,
   "metadata": {},
   "outputs": [],
   "source": [
    "# For a CSR, self-signed and key type\n",
    "\n",
    "from cryptography.hazmat.backends import default_backend\n",
    "from cryptography.hazmat.primitives import serialization\n",
    "from cryptography.hazmat.primitives.asymmetric import rsa\n",
    "from cryptography.hazmat.primitives.serialization import load_pem_private_key\n",
    "from cryptography import x509\n",
    "from cryptography.x509.oid import NameOID\n",
    "from cryptography.hazmat.primitives import hashes\n",
    "\n",
    "import OpenSSL.crypto\n",
    "from OpenSSL.crypto import load_certificate_request, FILETYPE_PEM"
   ]
  },
  {
   "cell_type": "markdown",
   "metadata": {},
   "source": [
    "## Create a Certificate Signing Request (CSR)"
   ]
  },
  {
   "cell_type": "markdown",
   "metadata": {},
   "source": [
    "**Steps for request a signing certificate**\n",
    "\n",
    "1. Generate a private/public key pair.\n",
    "2. Create a request for a certificate, which is signed by our key (to prove that we own that key).\n",
    "3. Give our CSR to a CA (but not the private key).\n",
    "4. The CA validates that we own the resource (e.g. domain) we want a certificate for.\n",
    "5. The CA gives us a certificate, signed by them, which identifies our public key, and the resource we are authenticated for.\n",
    "6. We configure our server to use that certificate, combined with our private key, to server traffic."
   ]
  },
  {
   "cell_type": "markdown",
   "metadata": {},
   "source": [
    "### First step"
   ]
  },
  {
   "cell_type": "code",
   "execution_count": 75,
   "metadata": {},
   "outputs": [
    {
     "name": "stdout",
     "output_type": "stream",
     "text": [
      "<cryptography.hazmat.backends.openssl.rsa._RSAPrivateKey object at 0x0000012711AD5848>\n"
     ]
    }
   ],
   "source": [
    "# Generate our key\n",
    "\n",
    "try:\n",
    "    with open('key.pem', 'rb') as f:\n",
    "        key_data = f.read()\n",
    "    key = load_pem_private_key(key_data, b\"password\", default_backend())\n",
    "except FileNotFoundError:\n",
    "    print(\"error\")\n",
    "    key = rsa.generate_private_key(\n",
    "        public_exponent=65537,\n",
    "        key_size=2048,\n",
    "        backend=default_backend()\n",
    "    )\n",
    "    with open('key.pem', 'wb+') as f:\n",
    "        f.write(key.private_bytes(\n",
    "            encoding=serialization.Encoding.PEM,\n",
    "            format=serialization.PrivateFormat.TraditionalOpenSSL,\n",
    "            encryption_algorithm=serialization.BestAvailableEncryption(b\"password\")\n",
    "        ))\n",
    "finally:\n",
    "    print(key)"
   ]
  },
  {
   "cell_type": "markdown",
   "metadata": {},
   "source": [
    "### Second step"
   ]
  },
  {
   "cell_type": "code",
   "execution_count": 77,
   "metadata": {},
   "outputs": [],
   "source": [
    "# Generate a CSR\n",
    "\n",
    "csr = x509.CertificateSigningRequestBuilder().subject_name(x509.Name([\n",
    "    # Provide various details about who we are.\n",
    "    x509.NameAttribute(NameOID.COUNTRY_NAME, u\"CH\"),\n",
    "    x509.NameAttribute(NameOID.STATE_OR_PROVINCE_NAME, u\"Neuchatel\"),\n",
    "    x509.NameAttribute(NameOID.LOCALITY_NAME, u\"Neuchatel\"),\n",
    "    x509.NameAttribute(NameOID.ORGANIZATION_NAME, u\"HE-Arc\"),\n",
    "    x509.NameAttribute(NameOID.COMMON_NAME, u\"www.he-arc.ch\"),\n",
    "])).add_extension(\n",
    "    x509.SubjectAlternativeName([\n",
    "        # Describe what sites we want this certificate for.\n",
    "        x509.DNSName(u\"www.he-arc.ch\"),\n",
    "        x509.DNSName(u\"webmail.he-arc.ch\"),\n",
    "        x509.DNSName(u\"intranet.he-arc.ch\"),\n",
    "    ]),\n",
    "critical=False,\n",
    "# Sign the CSR with our private key.\n",
    ").sign(key, hashes.SHA256(), default_backend())\n",
    "\n",
    "# Write our CSR out to disk.\n",
    "\n",
    "with open(\"csr.pem\", \"wb\") as f:\n",
    "    f.write(csr.public_bytes(serialization.Encoding.PEM))"
   ]
  },
  {
   "cell_type": "markdown",
   "metadata": {},
   "source": [
    "### Read and deserialize the CSR"
   ]
  },
  {
   "cell_type": "code",
   "execution_count": 99,
   "metadata": {},
   "outputs": [
    {
     "name": "stdout",
     "output_type": "stream",
     "text": [
      "-----BEGIN CERTIFICATE REQUEST-----\n",
      "MIIC9TCCAd0CAQAwXjELMAkGA1UEBhMCQ0gxEjAQBgNVBAgMCU5ldWNoYXRlbDES\n",
      "MBAGA1UEBwwJTmV1Y2hhdGVsMQ8wDQYDVQQKDAZIRS1BcmMxFjAUBgNVBAMMDXd3\n",
      "dy5oZS1hcmMuY2gwggEiMA0GCSqGSIb3DQEBAQUAA4IBDwAwggEKAoIBAQCYzSxR\n",
      "GdDsHB8y05+30/8frz91pAIBojU58knJQFZMxODji1DpziBYYs76xr0GRx8Z7Gls\n",
      "2RT5NDdc72LK4ADHNYKV/8eGvLUH2h7jlm/BuP/VorNH4DoblKx4vZIKzhngRVN9\n",
      "lBY0zFaapjUDEahUPUywWu/CxrgTKVzaOFqRowHfjLouM0n99Csx0VNd+ZXXR6Fc\n",
      "C5jcB/SaKbCaF5PUX2jc6Uq88QfwJqyAJ8NICCgenWz4XXN0R7OdfoawEuWW5Z9M\n",
      "1NrdEN/Ho3IBgc3kmSsyuphrB2iMXhFLKhEJMmBgqJIfF3QICwezW54BJBV6IWL6\n",
      "ClfhOSoYMXLrvEadAgMBAAGgUjBQBgkqhkiG9w0BCQ4xQzBBMD8GA1UdEQQ4MDaC\n",
      "DXd3dy5oZS1hcmMuY2iCEXdlYm1haWwuaGUtYXJjLmNoghJpbnRyYW5ldC5oZS1h\n",
      "cmMuY2gwDQYJKoZIhvcNAQELBQADggEBAAqX+z9x3Y17ObMdG4qqzACLytBYFb4Q\n",
      "nGI/GB4a/Tv5OJQOISEbkh3IZ1LYf/3yGHxSaJho65mwfnPrj0/0CLjTmVsfwTFB\n",
      "g5tQBJLItdscbyt0RKlIDk+qPxWT1TZPqtAAj0px8CsoBQOZSr6tTLSoz+IfEjeK\n",
      "1y5XSOTeEZBCvRoSILWzqb/Qbxz0O+7evtOYtfbl4cXpK/vqu/33B3VxyNvIGq49\n",
      "irtnvduJieMpGeu4BZlANon1JgfWJk+prKApMbT2k/AmCjlVdxvXNnk3WJ2Zwdqy\n",
      "u87Emxz2vXaykQ2aE4J8bgSLOCEU0vPORnh9Fj6Khba49FV3JRMZVXg=\n",
      "-----END CERTIFICATE REQUEST-----\n",
      "\n"
     ]
    }
   ],
   "source": [
    "with open(\"csr.pem\", \"rb\") as f:\n",
    "    csr = f.read()\n",
    "print(str(csr, 'utf-8'))"
   ]
  },
  {
   "cell_type": "code",
   "execution_count": 116,
   "metadata": {},
   "outputs": [
    {
     "name": "stdout",
     "output_type": "stream",
     "text": [
      "Country : CH\n",
      "State : Neuchatel\n",
      "City : Neuchatel\n",
      "Company : HE-Arc\n",
      "Website : www.he-arc.ch\n",
      "DNS:www.he-arc.ch, DNS:webmail.he-arc.ch, DNS:intranet.he-arc.ch\n"
     ]
    }
   ],
   "source": [
    "req = load_certificate_request(FILETYPE_PEM, csr)\n",
    "key = req.get_pubkey()\n",
    "\n",
    "key_type = 'RSA' if key.type() == OpenSSL.crypto.TYPE_RSA else 'DSA'\n",
    "\n",
    "subject = req.get_subject()\n",
    "extensions = req.get_extensions()\n",
    "\n",
    "components = dict(subject.get_components())\n",
    "\n",
    "print(\"Country :\", str(components[b'C'], 'utf-8'))\n",
    "print(\"State :\", str(components[b'ST'], 'utf-8'))\n",
    "print(\"City :\", str(components[b'L'], 'utf-8'))\n",
    "print(\"Company :\", str(components[b'O'], 'utf-8'))\n",
    "print(\"Website :\", str(components[b'CN'], 'utf-8'))\n",
    "\n",
    "print(extensions[0])"
   ]
  },
  {
   "cell_type": "markdown",
   "metadata": {},
   "source": [
    "## Creating a self-signed certificate"
   ]
  },
  {
   "cell_type": "code",
   "execution_count": null,
   "metadata": {},
   "outputs": [],
   "source": []
  },
  {
   "cell_type": "markdown",
   "metadata": {},
   "source": [
    "## Determining Certificate or Certificate Signing Resquest Key Type"
   ]
  },
  {
   "cell_type": "markdown",
   "metadata": {},
   "source": []
  }
 ],
 "metadata": {
  "kernelspec": {
   "display_name": "Python 3",
   "language": "python",
   "name": "python3"
  },
  "language_info": {
   "codemirror_mode": {
    "name": "ipython",
    "version": 3
   },
   "file_extension": ".py",
   "mimetype": "text/x-python",
   "name": "python",
   "nbconvert_exporter": "python",
   "pygments_lexer": "ipython3",
   "version": "3.7.4"
  }
 },
 "nbformat": 4,
 "nbformat_minor": 4
}
